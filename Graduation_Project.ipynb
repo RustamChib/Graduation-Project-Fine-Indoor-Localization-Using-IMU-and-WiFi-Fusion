{
  "nbformat": 4,
  "nbformat_minor": 0,
  "metadata": {
    "colab": {
      "name": "Graduation_Project.ipynb",
      "provenance": [],
      "collapsed_sections": [],
      "mount_file_id": "1oyUuuC1ApLo_XuYWEqKBEx6AA0efgWhu",
      "authorship_tag": "ABX9TyM5RWjk25W4nko9J6zqRyZA",
      "include_colab_link": true
    },
    "kernelspec": {
      "name": "python3",
      "display_name": "Python 3"
    },
    "accelerator": "GPU"
  },
  "cells": [
    {
      "cell_type": "markdown",
      "metadata": {
        "id": "view-in-github",
        "colab_type": "text"
      },
      "source": [
        "<a href=\"https://colab.research.google.com/github/RustamChib/Graduation-Project-Fine-Indoor-Localization-Using-IMU-and-WiFi-Fusion/blob/RustamChib-patch-1/Graduation_Project.ipynb\" target=\"_parent\"><img src=\"https://colab.research.google.com/assets/colab-badge.svg\" alt=\"Open In Colab\"/></a>"
      ]
    },
    {
      "cell_type": "code",
      "metadata": {
        "id": "-_BdrMlROhUN",
        "colab": {
          "base_uri": "https://localhost:8080/"
        },
        "outputId": "88e943f0-3468-4e24-bf8c-599a008566a6"
      },
      "source": [
        "from google.colab import drive\r\n",
        "\r\n",
        "drive.mount('/content/drive')"
      ],
      "execution_count": null,
      "outputs": [
        {
          "output_type": "stream",
          "text": [
            "Drive already mounted at /content/drive; to attempt to forcibly remount, call drive.mount(\"/content/drive\", force_remount=True).\n"
          ],
          "name": "stdout"
        }
      ]
    },
    {
      "cell_type": "code",
      "metadata": {
        "colab": {
          "base_uri": "https://localhost:8080/"
        },
        "id": "u5_Jh9kfav_b",
        "outputId": "150c0e64-7f8b-4692-adbf-190b3ec99eea"
      },
      "source": [
        "import pandas as pd\r\n",
        "import glob\r\n",
        "\r\n",
        "path = '/content/drive/MyDrive/Graduation Project/samsung/train/csv_files_processed'\r\n",
        "all_files = glob.glob(path + \"/*.csv\")\r\n",
        "\r\n",
        "li = []\r\n",
        "\r\n",
        "for filename in all_files:\r\n",
        "    df = pd.read_csv(filename, index_col=None, header=0)\r\n",
        "    li.append(df)\r\n",
        "\r\n",
        "frame = pd.concat(li, axis=0, ignore_index=True)\r\n",
        "data = frame.to_numpy()\r\n",
        "print(frame)"
      ],
      "execution_count": null,
      "outputs": [
        {
          "output_type": "stream",
          "text": [
            "           0      1      2      3  ...         mz          x          y         z\n",
            "0     -100.0 -100.0 -100.0 -100.0  ...   7.430891  11.247705  21.427139  6.323562\n",
            "1     -100.0 -100.0 -100.0 -100.0  ...   8.488937  11.268325  21.461499  6.323562\n",
            "2     -100.0 -100.0 -100.0 -100.0  ...   9.330569  11.288946  21.495859  6.323562\n",
            "3     -100.0 -100.0 -100.0 -100.0  ...  10.017527  11.309566  21.530219  6.323562\n",
            "4     -100.0 -100.0 -100.0 -100.0  ...   9.753671  11.330187  21.564579  6.323562\n",
            "...      ...    ...    ...    ...  ...        ...        ...        ...       ...\n",
            "90420 -100.0  -89.0 -100.0  -86.0  ...  -3.443839   0.383340   3.947244  6.235806\n",
            "90421 -100.0  -89.0 -100.0  -86.0  ...  -3.071389   0.376702   3.880484  6.235806\n",
            "90422 -100.0  -89.0 -100.0  -86.0  ...  -3.520441   0.370064   3.813724  6.235806\n",
            "90423 -100.0  -89.0 -100.0  -86.0  ...  -2.473423   0.363425   3.746964  6.235806\n",
            "90424 -100.0  -89.0 -100.0  -86.0  ...  -2.468353   0.356787   3.680204  6.235806\n",
            "\n",
            "[90425 rows x 234 columns]\n"
          ],
          "name": "stdout"
        }
      ]
    },
    {
      "cell_type": "code",
      "metadata": {
        "colab": {
          "base_uri": "https://localhost:8080/"
        },
        "id": "t7M77xH-bLlC",
        "outputId": "ebe1d1c3-2c6d-4a17-ac1b-3e6ca5e2872a"
      },
      "source": [
        "X_train = data[:,0:222]\r\n",
        "Y_train = data[:,231:234]\r\n",
        "print(X_train.shape)\r\n",
        "print(Y_train.shape)\r\n",
        "path_test = '/content/drive/MyDrive/Graduation Project/samsung/val/csv_files_processed/DATA_22122020_050318.csv'\r\n",
        "df_test = pd.read_csv(path_test, low_memory = True) \r\n",
        "data_test = df_test.to_numpy()\r\n",
        "X_test = data_test[:,0:222]\r\n",
        "Y_test = data_test[:,231:234]\r\n",
        "print('---------')\r\n",
        "print(X_test.shape)\r\n",
        "print(Y_test.shape)"
      ],
      "execution_count": null,
      "outputs": [
        {
          "output_type": "stream",
          "text": [
            "(90425, 222)\n",
            "(90425, 3)\n",
            "---------\n",
            "(5597, 222)\n",
            "(5597, 3)\n"
          ],
          "name": "stdout"
        }
      ]
    },
    {
      "cell_type": "code",
      "metadata": {
        "colab": {
          "base_uri": "https://localhost:8080/"
        },
        "id": "g9JqrGz6ot8K",
        "outputId": "70d66dbb-57ab-4f7e-f3ab-308591282e5a"
      },
      "source": [
        "from sklearn.neighbors import KNeighborsRegressor\r\n",
        "from sklearn.multioutput import MultiOutputRegressor\r\n",
        "\r\n",
        "# Create a kNN classifier instance. \r\n",
        "# Remember that training a kNN classifier is a noop: \r\n",
        "# the Classifier simply remembers the data and does no further processing\r\n",
        "classifier = KNeighborsRegressor(n_neighbors=3)\r\n",
        "#classifier = MultiOutputRegressor(LinearRegression())\r\n",
        "classifier.fit(X_train, Y_train)"
      ],
      "execution_count": null,
      "outputs": [
        {
          "output_type": "execute_result",
          "data": {
            "text/plain": [
              "KNeighborsRegressor(algorithm='auto', leaf_size=30, metric='minkowski',\n",
              "                    metric_params=None, n_jobs=None, n_neighbors=3, p=2,\n",
              "                    weights='uniform')"
            ]
          },
          "metadata": {
            "tags": []
          },
          "execution_count": 163
        }
      ]
    },
    {
      "cell_type": "code",
      "metadata": {
        "id": "FsuHKincwx0W"
      },
      "source": [
        "y_pred = classifier.predict(X_test)"
      ],
      "execution_count": null,
      "outputs": []
    },
    {
      "cell_type": "code",
      "metadata": {
        "colab": {
          "base_uri": "https://localhost:8080/"
        },
        "id": "0NOzwuAEm804",
        "outputId": "636a1f1f-2359-40b2-ac91-0b649262a41e"
      },
      "source": [
        "from scipy.spatial import distance\r\n",
        "\r\n",
        "euclidean_sum = 0\r\n",
        "N = len(Y_test)\r\n",
        "\r\n",
        "for i in range (N):\r\n",
        "  a = Y_test[[i], :]\r\n",
        "  b = y_pred[[i], :]\r\n",
        "  \r\n",
        "  dst = distance.euclidean(a,b)\r\n",
        "  euclidean_sum += dst\r\n",
        " \r\n",
        "print(euclidean_sum/N)"
      ],
      "execution_count": null,
      "outputs": [
        {
          "output_type": "stream",
          "text": [
            "28.12593788324445\n"
          ],
          "name": "stdout"
        }
      ]
    },
    {
      "cell_type": "code",
      "metadata": {
        "colab": {
          "base_uri": "https://localhost:8080/",
          "height": 304
        },
        "id": "QacIbKpRve5E",
        "outputId": "7a2fd27a-6cd3-43f9-dd49-75868e7edf68"
      },
      "source": [
        "import numpy as np\r\n",
        "import matplotlib.pyplot as plt\r\n",
        "from numpy import random\r\n",
        "\r\n",
        "X_position_test = Y_test[:, [0]]\r\n",
        "Y_position_test = Y_test[:, [1]]\r\n",
        "X_position_pred = y_pred[:, [0]]\r\n",
        "Y_position_pred = y_pred[:, [1]]\r\n",
        "print(X_position_test.shape)\r\n",
        "print(Y_position_test.shape)\r\n",
        "\r\n",
        "plt.scatter(X_position_test, Y_position_test)\r\n",
        "plt.scatter(X_position_pred, Y_position_pred, marker = 'x')\r\n",
        "plt.show()"
      ],
      "execution_count": null,
      "outputs": [
        {
          "output_type": "stream",
          "text": [
            "(5597, 1)\n",
            "(5597, 1)\n"
          ],
          "name": "stdout"
        },
        {
          "output_type": "display_data",
          "data": {
            "image/png": "[encoded data removed]",
            "text/plain": [
              "<Figure size 432x288 with 1 Axes>"
            ]
          },
          "metadata": {
            "tags": [],
            "needs_background": "light"
          }
        }
      ]
    },
    {
      "cell_type": "code",
      "metadata": {
        "id": "S32-bfDKvwfW"
      },
      "source": [
        ""
      ],
      "execution_count": null,
      "outputs": []
    }
  ]
}