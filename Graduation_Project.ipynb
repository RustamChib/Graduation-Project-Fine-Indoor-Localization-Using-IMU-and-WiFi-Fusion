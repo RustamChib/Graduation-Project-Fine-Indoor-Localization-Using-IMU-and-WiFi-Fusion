{
  "nbformat": 4,
  "nbformat_minor": 0,
  "metadata": {
    "colab": {
      "name": "Graduation_Project.ipynb",
      "provenance": [],
      "collapsed_sections": [],
      "include_colab_link": true
    },
    "kernelspec": {
      "name": "python3",
      "display_name": "Python 3"
    },
    "accelerator": "GPU"
  },
  "cells": [
    {
      "cell_type": "markdown",
      "metadata": {
        "id": "view-in-github",
        "colab_type": "text"
      },
      "source": [
        "<a href=\"https://colab.research.google.com/github/RustamChib/Graduation-Project-Fine-Indoor-Localization-Using-IMU-and-WiFi-Fusion/blob/RustamChib-patch-1/Graduation_Project.ipynb\" target=\"_parent\"><img src=\"https://colab.research.google.com/assets/colab-badge.svg\" alt=\"Open In Colab\"/></a>"
      ]
    },
    {
      "cell_type": "code",
      "metadata": {
        "id": "-_BdrMlROhUN",
        "colab": {
          "base_uri": "https://localhost:8080/"
        },
        "outputId": "180fac48-3868-4975-bb4b-cfc9a6425c4b"
      },
      "source": [
        "from google.colab import drive\r\n",
        "\r\n",
        "drive.mount('/content/drive')"
      ],
      "execution_count": 3,
      "outputs": [
        {
          "output_type": "stream",
          "text": [
            "Mounted at /content/drive\n"
          ],
          "name": "stdout"
        }
      ]
    },
    {
      "cell_type": "code",
      "metadata": {
        "colab": {
          "base_uri": "https://localhost:8080/"
        },
        "id": "u5_Jh9kfav_b",
        "outputId": "a006f390-6465-45d5-fecb-051e83b0ff89"
      },
      "source": [
        "import pandas as pd\r\n",
        "import glob\r\n",
        "\r\n",
        "path = '/content/drive/MyDrive/Graduation Project/samsung_5th_floor/new/train'\r\n",
        "all_files = glob.glob(path + \"/*.csv\")\r\n",
        "\r\n",
        "li = []\r\n",
        "for filename in all_files:\r\n",
        "    df = pd.read_csv(filename, index_col=None, header=0)\r\n",
        "    li.append(df)\r\n",
        "frame = pd.concat(li, axis=0, ignore_index=True)\r\n",
        "data = frame.to_numpy()\r\n",
        "print(data.shape)"
      ],
      "execution_count": 114,
      "outputs": [
        {
          "output_type": "stream",
          "text": [
            "(90044, 232)\n"
          ],
          "name": "stdout"
        }
      ]
    },
    {
      "cell_type": "code",
      "metadata": {
        "colab": {
          "base_uri": "https://localhost:8080/"
        },
        "id": "t7M77xH-bLlC",
        "outputId": "6c68e35f-473c-44eb-ba7e-ee53e4af2866"
      },
      "source": [
        "X_train = data[:,0:222]\r\n",
        "Y_train = data[:,229:232]\r\n",
        "print(X_train.shape)\r\n",
        "print(Y_train.shape)\r\n",
        "path_test = '/content/drive/MyDrive/Graduation Project/samsung_5th_floor/new/test/DATA_23112020_044558.csv'\r\n",
        "df_test = pd.read_csv(path_test, low_memory = True) \r\n",
        "data_test = df_test.to_numpy()\r\n",
        "X_test = data_test[:,0:222]\r\n",
        "Y_test = data_test[:,229:232]\r\n",
        "print('-----------')\r\n",
        "print(X_test.shape)\r\n",
        "print(Y_test.shape)"
      ],
      "execution_count": 178,
      "outputs": [
        {
          "output_type": "stream",
          "text": [
            "(90044, 222)\n",
            "(90044, 3)\n",
            "-----------\n",
            "(5941, 222)\n",
            "(5941, 3)\n"
          ],
          "name": "stdout"
        }
      ]
    },
    {
      "cell_type": "markdown",
      "metadata": {
        "id": "CzdgRSgP-AIk"
      },
      "source": [
        "Feature scaling (NOT USE)\r\n"
      ]
    },
    {
      "cell_type": "code",
      "metadata": {
        "colab": {
          "base_uri": "https://localhost:8080/"
        },
        "id": "-06MfxRz5l4X",
        "outputId": "6de94ac3-d703-4168-9dbf-dcb9516f2fb8"
      },
      "source": [
        "import numpy as np\r\n",
        "import math\r\n",
        "from sklearn.preprocessing import StandardScaler\r\n",
        "\r\n",
        "sc_X = StandardScaler()\r\n",
        "\r\n",
        "X_train = sc_X.fit_transform(X_train)\r\n",
        "X_test = sc_X.fit_transform(X_test)\r\n",
        "\r\n",
        "print(np.max(X_train))\r\n",
        "print(np.min(X_train))\r\n",
        "\r\n",
        "print(np.max(X_test))\r\n",
        "print(np.min(X_test))\r\n"
      ],
      "execution_count": null,
      "outputs": [
        {
          "output_type": "stream",
          "text": [
            "42.09559615549205\n",
            "-1.162890179660639\n",
            "11.24907403596699\n",
            "-2.1658407823851205\n"
          ],
          "name": "stdout"
        }
      ]
    },
    {
      "cell_type": "markdown",
      "metadata": {
        "id": "cOkL5PhUUE_z"
      },
      "source": [
        "Feature scaling Mukhamet"
      ]
    },
    {
      "cell_type": "code",
      "metadata": {
        "id": "Of-m9nPW520-"
      },
      "source": [
        "import numpy as np\r\n",
        "import math\r\n",
        "def normalize(X: np.ndarray, default_val: float, mode: int) -> np.ndarray:\r\n",
        "    '''\r\n",
        "    Normalizes the data given the mode\r\n",
        "    Arguments:\r\n",
        "    X           -- values to normalize\r\n",
        "    default_val -- replaces NaNs\r\n",
        "    mode        -- 0 - none, 1 - positive, 2 - zero-to-one, 3 - powed normalization\r\n",
        "    Returns:\r\n",
        "    X           -- normalized data or throws an exception\r\n",
        "    '''\r\n",
        "    if mode == 0:\r\n",
        "        X = X\r\n",
        "    elif mode == 1:\r\n",
        "        X += default_val\r\n",
        "    elif mode == 2:\r\n",
        "        X += default_val\r\n",
        "        X /= default_val\r\n",
        "    elif mode == 3:\r\n",
        "        X += default_val\r\n",
        "        X /= default_val\r\n",
        "        X = np.power(X, math.exp(1))\r\n",
        "    else:\r\n",
        "        raise IOError(\"invalid normalization mode\")\r\n",
        "    return X"
      ],
      "execution_count": 123,
      "outputs": []
    },
    {
      "cell_type": "markdown",
      "metadata": {
        "id": "a1Ti2mkZo4f9"
      },
      "source": [
        "Normalization"
      ]
    },
    {
      "cell_type": "code",
      "metadata": {
        "colab": {
          "base_uri": "https://localhost:8080/"
        },
        "id": "WrsItBVL7u8d",
        "outputId": "dd155d81-ec7b-428c-ffa9-8ea04cda57e3"
      },
      "source": [
        "X_train_normalized = normalize(X_train, 100, 0)\r\n",
        "X_test_normalized = normalize(X_test, 100, 0)\r\n",
        "print(np.max(X_train_normalized))\r\n",
        "print(np.min(X_train_normalized))\r\n",
        "\r\n",
        "print(np.max(X_test_normalized))\r\n",
        "print(np.min(X_test_normalized))"
      ],
      "execution_count": 179,
      "outputs": [
        {
          "output_type": "stream",
          "text": [
            "3.2308662\n",
            "-90.0\n",
            "0.9450085\n",
            "-90.0\n"
          ],
          "name": "stdout"
        }
      ]
    },
    {
      "cell_type": "code",
      "metadata": {
        "colab": {
          "base_uri": "https://localhost:8080/"
        },
        "id": "g9JqrGz6ot8K",
        "outputId": "3889e94c-db26-48cd-e04d-dad580cd6197"
      },
      "source": [
        "from sklearn.neighbors import KNeighborsRegressor\r\n",
        "model = KNeighborsRegressor(algorithm='auto',leaf_size=80, n_neighbors=19, metric='minkowski', p = 1)\r\n",
        "model.fit(X_train_normalized, Y_train)"
      ],
      "execution_count": 180,
      "outputs": [
        {
          "output_type": "execute_result",
          "data": {
            "text/plain": [
              "KNeighborsRegressor(algorithm='auto', leaf_size=80, metric='minkowski',\n",
              "                    metric_params=None, n_jobs=None, n_neighbors=19, p=1,\n",
              "                    weights='uniform')"
            ]
          },
          "metadata": {
            "tags": []
          },
          "execution_count": 180
        }
      ]
    },
    {
      "cell_type": "code",
      "metadata": {
        "id": "FsuHKincwx0W"
      },
      "source": [
        "y_pred = model.predict(X_test_normalized)"
      ],
      "execution_count": 181,
      "outputs": []
    },
    {
      "cell_type": "markdown",
      "metadata": {
        "id": "A79e7-saoyiu"
      },
      "source": [
        "Checking the best K neighbors"
      ]
    },
    {
      "cell_type": "code",
      "metadata": {
        "colab": {
          "base_uri": "https://localhost:8080/"
        },
        "id": "_eXQIo3kyVrn",
        "outputId": "28c9fe6b-0bdb-4404-91de-44aeea64c8d9"
      },
      "source": [
        "from math import sqrt\r\n",
        "from sklearn.metrics import mean_squared_error\r\n",
        "rmse_val = [] #to store rmse values for different k\r\n",
        "for K in range(20):\r\n",
        "    K = K+1\r\n",
        "    model = KNeighborsRegressor(algorithm='auto',leaf_size=80, n_neighbors=K, metric='minkowski', p = 1)\r\n",
        "\r\n",
        "    model.fit(X_train_normalized, Y_train)  #fit the model\r\n",
        "    pred=model.predict(X_test_normalized) #make prediction on test set\r\n",
        "    error = sqrt(mean_squared_error(Y_test,pred)) #calculate rmse\r\n",
        "    rmse_val.append(error) #store rmse values\r\n",
        "    print('RMSE value for k= ' , K , 'is:', error)"
      ],
      "execution_count": 69,
      "outputs": [
        {
          "output_type": "stream",
          "text": [
            "RMSE value for k=  1 is: 2.0149330235727834\n",
            "RMSE value for k=  2 is: 2.008900467700929\n",
            "RMSE value for k=  3 is: 2.008821348315617\n",
            "RMSE value for k=  4 is: 2.006166676815174\n",
            "RMSE value for k=  5 is: 2.00392138862824\n",
            "RMSE value for k=  6 is: 2.0035827199818694\n",
            "RMSE value for k=  7 is: 2.0029310549878576\n",
            "RMSE value for k=  8 is: 2.003759744949319\n",
            "RMSE value for k=  9 is: 2.0035192948760767\n",
            "RMSE value for k=  10 is: 2.0038148694333233\n",
            "RMSE value for k=  11 is: 2.0036582115752015\n",
            "RMSE value for k=  12 is: 2.00323935834235\n",
            "RMSE value for k=  13 is: 2.0032015587878105\n",
            "RMSE value for k=  14 is: 2.003443836160064\n",
            "RMSE value for k=  15 is: 2.0036570817769572\n",
            "RMSE value for k=  16 is: 2.003115836045688\n",
            "RMSE value for k=  17 is: 2.002732494379286\n",
            "RMSE value for k=  18 is: 2.002451537580813\n",
            "RMSE value for k=  19 is: 2.002226990951001\n",
            "RMSE value for k=  20 is: 2.0023837559231232\n"
          ],
          "name": "stdout"
        }
      ]
    },
    {
      "cell_type": "code",
      "metadata": {
        "colab": {
          "base_uri": "https://localhost:8080/"
        },
        "id": "0NOzwuAEm804",
        "outputId": "ed4b763b-a715-4cea-a0a7-30295fee9de3"
      },
      "source": [
        "from scipy.spatial import distance\r\n",
        "\r\n",
        "euclidean_sum = 0\r\n",
        "N = len(Y_test)\r\n",
        "\r\n",
        "for i in range (N):\r\n",
        "  a = Y_test[[i], :]\r\n",
        "  b = y_pred[[i], :]\r\n",
        "  \r\n",
        "  dst = distance.euclidean(a,b)\r\n",
        "  euclidean_sum += dst\r\n",
        " \r\n",
        "print(euclidean_sum/N)"
      ],
      "execution_count": 182,
      "outputs": [
        {
          "output_type": "stream",
          "text": [
            "2.9251878670512586\n"
          ],
          "name": "stdout"
        }
      ]
    },
    {
      "cell_type": "code",
      "metadata": {
        "colab": {
          "base_uri": "https://localhost:8080/",
          "height": 316
        },
        "id": "QacIbKpRve5E",
        "outputId": "0b106d48-2b71-4ef6-9754-012e61d96373"
      },
      "source": [
        "import numpy as np\r\n",
        "from google.colab import files\r\n",
        "import matplotlib.pyplot as plt\r\n",
        "from matplotlib.pyplot import text\r\n",
        "from numpy import random\r\n",
        "from IPython.display import Image\r\n",
        "\r\n",
        "X_position_test = Y_test[:, [0]]\r\n",
        "Y_position_test = Y_test[:, [1]]\r\n",
        "X_position_pred = y_pred[:, [0]]\r\n",
        "Y_position_pred = y_pred[:, [1]]\r\n",
        "print(X_position_test.shape)\r\n",
        "print(Y_position_test.shape)\r\n",
        "\r\n",
        "plt.scatter(X_position_test, Y_position_test)\r\n",
        "plt.scatter(X_position_pred, Y_position_pred, marker = 'x')\r\n",
        "\r\n",
        "text(30,10,euclidean_sum/N)\r\n",
        "#plt.show()\r\n"
      ],
      "execution_count": 184,
      "outputs": [
        {
          "output_type": "stream",
          "text": [
            "(5941, 1)\n",
            "(5941, 1)\n"
          ],
          "name": "stdout"
        },
        {
          "output_type": "execute_result",
          "data": {
            "text/plain": [
              "Text(30, 10, '2.9251878670512586')"
            ]
          },
          "metadata": {
            "tags": []
          },
          "execution_count": 184
        },
        {
          "output_type": "display_data",
          "data": {
            "image/png": "[encoded data removed]",
            "text/plain": [
              "<Figure size 432x288 with 1 Axes>"
            ]
          },
          "metadata": {
            "tags": [],
            "needs_background": "light"
          }
        }
      ]
    }
  ]
}